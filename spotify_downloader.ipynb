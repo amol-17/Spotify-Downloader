{
  "nbformat": 4,
  "nbformat_minor": 0,
  "metadata": {
    "colab": {
      "name": "yt downloader.ipynb",
      "provenance": [],
      "collapsed_sections": []
    },
    "kernelspec": {
      "display_name": "Python 3",
      "name": "python3"
    }
  },
  "cells": [
    {
      "cell_type": "markdown",
      "metadata": {
        "id": "NgOaQIEsWRy-"
      },
      "source": [
        "## Enter spotify **playlist URL**"
      ]
    },
    {
      "cell_type": "code",
      "metadata": {
        "id": "0wNFqOIaWQUu"
      },
      "source": [
        "# Enter Playlist URL inside double quotes \" \"\n",
        "playlist_url = \"\"\n",
        "# Example: playlist_url = \"https://open.spotify.com/playlist/21ff4YweZbISUbJWtfcfKQ?si=ef3121403c4a454d"
      ],
      "execution_count": null,
      "outputs": []
    },
    {
      "cell_type": "markdown",
      "metadata": {
        "id": "MKwK7s7dWmvN"
      },
      "source": [
        "### Click on Runtime and select **Run All**"
      ]
    },
    {
      "cell_type": "code",
      "metadata": {
        "id": "BlyZKI0rugK-"
      },
      "source": [
        "!pip install --upgrade google-api-python-client\n",
        "!pip install git+https://github.com/ssuwani/pytube \n",
        "!pip install spotipy"
      ],
      "execution_count": null,
      "outputs": []
    },
    {
      "cell_type": "code",
      "metadata": {
        "id": "_1Z2LoUkljWC"
      },
      "source": [
        "mkdir songs"
      ],
      "execution_count": null,
      "outputs": []
    },
    {
      "cell_type": "code",
      "metadata": {
        "id": "BDDwW5xftZ_C"
      },
      "source": [
        "# importing libraries\n",
        "import requests\n",
        "import json\n",
        "from googleapiclient.discovery import build\n",
        "from pytube import YouTube\n",
        "import os\n",
        "import spotipy\n",
        "from spotipy.oauth2 import SpotifyClientCredentials\n",
        "import time"
      ],
      "execution_count": null,
      "outputs": []
    },
    {
      "cell_type": "code",
      "metadata": {
        "id": "7DrGjOKgr-R4"
      },
      "source": [
        "# web scraping part instead of API\n",
        "def youtube_Search(query):\n",
        "  query = query.replace(\" \", \"+\")\n",
        "  url = \"https://youtube-scrape.herokuapp.com/api/search?q=\"+query+\"&page=1\"\n",
        "\n",
        "  page = requests.get(url)\n",
        "  txt = page.text\n",
        "  js = json.loads(txt)\n",
        "\n",
        "  for i in range(len(js['results'])):\n",
        "      vid_url = (js['results'][i]['video']['url'])\n",
        "      break\n",
        "  download(vid_url)\n",
        "  print(vid_url)"
      ],
      "execution_count": null,
      "outputs": []
    },
    {
      "cell_type": "code",
      "metadata": {
        "id": "3Qm0k_tneA1l"
      },
      "source": [
        "# pytube\n",
        "\n",
        "def download(video_id):\n",
        "  url = video_id\n",
        "  print(url)\n",
        "  yt = YouTube(url)\n",
        "  # aud = yt.streams.filter(only_audio=True).all()\n",
        "  aud = yt.streams.filter(only_audio = True).first()\n",
        "   \n",
        "  output = aud.download(\"/content/songs\")\n",
        "  base, ext = os.path.splitext(output)\n",
        "  new = base + \".mp3\"\n",
        "  os.rename(output, new)"
      ],
      "execution_count": null,
      "outputs": []
    },
    {
      "cell_type": "code",
      "metadata": {
        "id": "XKQXUqXuM56i"
      },
      "source": [
        "client_id = \"89bfb2d10c5549e7962657ef9d52e7fd\"\n",
        "client_secret = \"878fee4f9baa424eafe05b298f5a69a1\"\n",
        "\n",
        "sp = spotipy.Spotify(client_credentials_manager=SpotifyClientCredentials(client_id=client_id,\n",
        "       client_secret=client_secret))\n",
        "\n",
        "def sp_playlist_search():\n",
        "  results = sp.playlist_items(playlist_url)\n",
        "  albums=results['items']\n",
        "\n",
        "  while results['next']:\n",
        "    results=sp.next(results)\n",
        "\n",
        "  albums.extend(results['items'])\n",
        "\n",
        "  for album in albums:\n",
        "    # print(album)\n",
        "    artist_name = album['track']['artists'][0]['name']\n",
        "    song_name = album['track']['name']\n",
        "    print(\"\\nDownloading ...\")\n",
        "    print(artist_name + \" \" + song_name)\n",
        "    vid_name = artist_name + song_name\n",
        "\n",
        "    try:\n",
        "      youtube_Search(vid_name)\n",
        "      print(\"Download finished.\")\n",
        "      time.sleep(1)\n",
        "    except Exception as e:\n",
        "      print(\"error: \", song_name, e)\n",
        "      i = 0\n",
        "      while i<3:\n",
        "        try:\n",
        "          youtube_Search(vid_name)\n",
        "          print(\"Download finished.\")\n",
        "          break\n",
        "        except:\n",
        "          print(\"exception no: \", i)\n",
        "          time.sleep(1)\n",
        "          i+=1\n",
        "          pass    "
      ],
      "execution_count": null,
      "outputs": []
    },
    {
      "cell_type": "code",
      "metadata": {
        "id": "0kY10PA8OF3X"
      },
      "source": [
        "sp_playlist_search()"
      ],
      "execution_count": null,
      "outputs": []
    },
    {
      "cell_type": "markdown",
      "metadata": {
        "id": "K0BE2jgMmbd2"
      },
      "source": [
        "#To download the folder"
      ]
    },
    {
      "cell_type": "code",
      "metadata": {
        "id": "Fh650I1edT9D"
      },
      "source": [
        "!zip -r /content/songs.zip /content/songs\n",
        "\n",
        "from google.colab import files\n",
        "files.download(\"/content/songs.zip\")"
      ],
      "execution_count": null,
      "outputs": []
    },
    {
      "cell_type": "code",
      "metadata": {
        "id": "p2Al4CBnXifG"
      },
      "source": [
        ""
      ],
      "execution_count": null,
      "outputs": []
    }
  ]
}