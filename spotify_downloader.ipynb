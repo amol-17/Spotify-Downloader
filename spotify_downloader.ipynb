{
 "cells": [
  {
   "cell_type": "markdown",
   "metadata": {
    "id": "NgOaQIEsWRy-"
   },
   "source": [
    "## Enter spotify **playlist/album/track URL**"
   ]
  },
  {
   "cell_type": "code",
   "execution_count": null,
   "metadata": {
    "id": "0wNFqOIaWQUu"
   },
   "outputs": [],
   "source": [
    "# Enter Playlist/Album/track URL inside double quotes \" \"\n",
    "URL = \"\"\n",
    "# Example: URL = \"https://open.spotify.com/playlist/21ff4YweZbISUbJWtfcfKQ?si=ef3121403c4a454d\"\n",
    "# Example2: URL = \"https://open.spotify.com/album/2gNPnKP1PDkB5SZz3IMKuX?si=Nfnt4HP4Q6O_-1yeZVOjiA&dl_branch=1&nd=1\"\n",
    "# Example3: URL = \"https://open.spotify.com/track/4yR2z3JafnCo86THA6ISZ4?si=784f1a4afd4844da\""
   ]
  },
  {
   "cell_type": "markdown",
   "metadata": {
    "id": "MKwK7s7dWmvN"
   },
   "source": [
    "### Click on Runtime and select **Run All**"
   ]
  },
  {
   "cell_type": "code",
   "execution_count": null,
   "metadata": {
    "id": "BlyZKI0rugK-"
   },
   "outputs": [],
   "source": [
    "# !pip install --upgrade google-api-python-client\n",
    "# !pip install git+https://github.com/ssuwani/pytube \n",
    "!pip install pytube \n",
    "!pip install spotipy"
   ]
  },
  {
   "cell_type": "code",
   "execution_count": null,
   "metadata": {
    "id": "_1Z2LoUkljWC"
   },
   "outputs": [],
   "source": [
    "mkdir songs"
   ]
  },
  {
   "cell_type": "code",
   "execution_count": null,
   "metadata": {
    "id": "BDDwW5xftZ_C"
   },
   "outputs": [],
   "source": [
    "# importing libraries\n",
    "import requests\n",
    "import json\n",
    "from pytube import YouTube\n",
    "import os\n",
    "import spotipy\n",
    "from spotipy.oauth2 import SpotifyClientCredentials\n",
    "import time"
   ]
  },
  {
   "cell_type": "code",
   "execution_count": null,
   "metadata": {
    "id": "7DrGjOKgr-R4"
   },
   "outputs": [],
   "source": [
    "# web scraping part instead of API\n",
    "def youtube_Search(query):\n",
    "  query = query.replace(\" \", \"+\")\n",
    "  url = \"https://youtube-scrape.herokuapp.com/api/search?q=\"+query+\"&page=1\"\n",
    "  \n",
    "\n",
    "  page = requests.get(url)\n",
    "  txt = page.text\n",
    "  js = json.loads(txt)\n",
    "  for i in range(len(js['results'])):\n",
    "      vid_URL_ = (js['results'][i]['video']['url'])\n",
    "      break\n",
    "  download(vid_URL_)"
   ]
  },
  {
   "cell_type": "code",
   "execution_count": null,
   "metadata": {
    "id": "3Qm0k_tneA1l"
   },
   "outputs": [],
   "source": [
    "# pytube\n",
    "\n",
    "def download(video_id):\n",
    "  url = video_id\n",
    "  print(url)\n",
    "  yt = YouTube(url)\n",
    "  # aud = yt.streams.filter(only_audio=True).all()\n",
    "  aud = yt.streams.filter(only_audio = True).first()\n",
    "   \n",
    "  output = aud.download(\"/content/songs\")\n",
    "  base, ext = os.path.splitext(output)\n",
    "  new = base + \".mp3\"\n",
    "  os.rename(output, new)"
   ]
  },
  {
   "cell_type": "code",
   "execution_count": null,
   "metadata": {},
   "outputs": [],
   "source": [
    "def try_yt_search(vid_name): #trying to search our song and handling exception for 3 times\n",
    "  try:\n",
    "    youtube_Search(vid_name)\n",
    "    print(\"Download finished.\")\n",
    "    time.sleep(1)\n",
    "  except Exception as e:\n",
    "    print(\"error: \", vid_name, e)\n",
    "    i = 0\n",
    "    while i<3:\n",
    "      try:\n",
    "        youtube_Search(vid_name)\n",
    "        print(\"Download finished.\")\n",
    "        break\n",
    "      except:\n",
    "        print(\"exception no: \", i)\n",
    "        time.sleep(1)\n",
    "        i+=1\n",
    "        pass    \n"
   ]
  },
  {
   "cell_type": "code",
   "execution_count": null,
   "metadata": {
    "id": "XKQXUqXuM56i"
   },
   "outputs": [],
   "source": [
    "# Getting info from Spotify API\n",
    "client_id = \"89bfb2d10c5549e7962657ef9d52e7fd\"\n",
    "client_secret = \"878fee4f9baa424eafe05b298f5a69a1\"\n",
    "\n",
    "sp = spotipy.Spotify(client_credentials_manager=SpotifyClientCredentials(client_id=client_id,\n",
    "       client_secret=client_secret))\n",
    "\n",
    "# playlist download\n",
    "def sp_playlist_search():\n",
    "  results = sp.playlist_items(URL)\n",
    "  playlist=results['items']\n",
    "\n",
    "  while results['next']:\n",
    "    results=sp.next(results)\n",
    "\n",
    "  playlist.extend(results['items'])\n",
    "\n",
    "  for song in playlist:\n",
    "    artist_name = song['track']['artists'][0]['name']\n",
    "    song_name = song['track']['name']\n",
    "    print(\"\\nDownloading ...\")\n",
    "    print(artist_name + \" \" + song_name)\n",
    "    vid_name = artist_name + \" \" + song_name\n",
    "    try_yt_search(vid_name)\n",
    "\n",
    "# album downlaod\n",
    "def sp_album_search():\n",
    "  results = sp.album_tracks(URL)\n",
    "  albums = results['items']\n",
    "  while results['next']:\n",
    "    results = sp.next(results)\n",
    "    albums.extend(results['items'])\n",
    "\n",
    "  for song in albums:\n",
    "    artist_name = song['artists'][0]['name']\n",
    "    song_name = song['name']\n",
    "    print(\"\\nDownloading ...\")\n",
    "    print(artist_name + \" \" + song_name)\n",
    "    vid_name = artist_name + \"+\" + song_name\n",
    "    try_yt_search(vid_name)\n",
    "\n",
    "def sp_track_search():\n",
    "  result = sp.track(URL)\n",
    "  song_name = result['name']\n",
    "  artist_name = result['artists'][0]['name']\n",
    "  print(\"\\nDownloading ...\")\n",
    "  print(artist_name + \" \" + song_name)\n",
    "  vid_name = artist_name + \"+\" + song_name\n",
    "  try_yt_search(vid_name)"
   ]
  },
  {
   "cell_type": "code",
   "execution_count": null,
   "metadata": {
    "id": "0kY10PA8OF3X"
   },
   "outputs": [],
   "source": [
    "if \"album\" in URL:\n",
    "  sp_album_search()\n",
    "\n",
    "if \"playlist\" in URL:\n",
    "  sp_playlist_search()\n",
    "\n",
    "if \"track\" in URL:\n",
    "  sp_track_search()"
   ]
  },
  {
   "cell_type": "markdown",
   "metadata": {
    "id": "K0BE2jgMmbd2"
   },
   "source": [
    "#To download the folder"
   ]
  },
  {
   "cell_type": "code",
   "execution_count": null,
   "metadata": {
    "id": "Fh650I1edT9D"
   },
   "outputs": [],
   "source": [
    "# Skip this part if you are running on a local machine instead.\n",
    "!zip -r /content/songs.zip /content/songs \n",
    " \n",
    "from google.colab import files\n",
    "files.download(\"/content/songs.zip\")"
   ]
  },
  {
   "cell_type": "code",
   "execution_count": null,
   "metadata": {
    "id": "p2Al4CBnXifG"
   },
   "outputs": [],
   "source": []
  }
 ],
 "metadata": {
  "colab": {
   "collapsed_sections": [],
   "name": "yt downloader.ipynb",
   "provenance": []
  },
  "kernelspec": {
   "display_name": "Python 3",
   "language": "python",
   "name": "python3"
  },
  "language_info": {
   "codemirror_mode": {
    "name": "ipython",
    "version": 3
   },
   "file_extension": ".py",
   "mimetype": "text/x-python",
   "name": "python",
   "nbconvert_exporter": "python",
   "pygments_lexer": "ipython3",
   "version": "3.9.5"
  }
 },
 "nbformat": 4,
 "nbformat_minor": 1
}
